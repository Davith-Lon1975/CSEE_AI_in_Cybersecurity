{
 "cells": [
  {
   "cell_type": "code",
   "execution_count": 1,
   "id": "2e6282ff",
   "metadata": {},
   "outputs": [],
   "source": [
    "import pandas as pd\n",
    "import numpy as np\n",
    "import torch as th\n",
    "from torchvision import datasets, transforms\n",
    "import syft as sy"
   ]
  },
  {
   "cell_type": "code",
   "execution_count": 2,
   "id": "5e4d09fb",
   "metadata": {},
   "outputs": [
    {
     "name": "stdout",
     "output_type": "stream",
     "text": [
      "🎤  🎸  ♪♪♪ Starting Duet ♫♫♫  🎻  🎹\n",
      "\n",
      "♫♫♫ >\u001b[93m DISCLAIMER\u001b[0m: \u001b[1mDuet is an experimental feature currently in beta.\n",
      "♫♫♫ > Use at your own risk.\n",
      "\u001b[0m\n",
      "\u001b[1m\n",
      "    > ❤️ \u001b[91mLove\u001b[0m \u001b[92mDuet\u001b[0m? \u001b[93mPlease\u001b[0m \u001b[94mconsider\u001b[0m \u001b[95msupporting\u001b[0m \u001b[91mour\u001b[0m \u001b[93mcommunity!\u001b[0m\n",
      "    > https://github.com/sponsors/OpenMined\u001b[1m\n",
      "\n",
      "♫♫♫ > Punching through firewall to OpenGrid Network Node at:\n",
      "♫♫♫ > http://ec2-18-218-7-180.us-east-2.compute.amazonaws.com:5000\n",
      "♫♫♫ >\n",
      "♫♫♫ > ...waiting for response from OpenGrid Network... \n",
      "♫♫♫ > \u001b[92mDONE!\u001b[0m\n",
      "♫♫♫ > Duet Server ID: \u001b[1m81f8e608c8e6ecfd177c3165d5396d23\u001b[0m\n",
      "\n",
      "♫♫♫ > \u001b[95mSTEP 1:\u001b[0m Send the following code to your Duet Partner!\n",
      "\n",
      "import syft as sy\n",
      "duet = sy.duet(\"\u001b[1m81f8e608c8e6ecfd177c3165d5396d23\u001b[0m\")\n",
      "\n",
      "♫♫♫ > \u001b[95mSTEP 2:\u001b[0m Ask your partner for their Client ID and enter it below!\n",
      "♫♫♫ > Duet Partner's Client ID: a6850df0c7a44c55350dcd03b541491b\n",
      "\n",
      "♫♫♫ > Connecting...\n"
     ]
    },
    {
     "name": "stderr",
     "output_type": "stream",
     "text": [
      "C:\\Users\\davit\\anaconda3\\envs\\Final_Project\\lib\\site-packages\\aiortc\\rtcdtlstransport.py:211: CryptographyDeprecationWarning: This version of cryptography contains a temporary pyOpenSSL fallback path. Upgrade pyOpenSSL now.\n",
      "  _openssl_assert(lib.SSL_CTX_use_certificate(ctx, self._cert._x509) == 1)  # type: ignore\n",
      "C:\\Users\\davit\\anaconda3\\envs\\Final_Project\\lib\\site-packages\\aiortc\\rtcdtlstransport.py:186: CryptographyDeprecationWarning: This version of cryptography contains a temporary pyOpenSSL fallback path. Upgrade pyOpenSSL now.\n",
      "  value=certificate_digest(self._cert._x509),  # type: ignore\n"
     ]
    },
    {
     "name": "stdout",
     "output_type": "stream",
     "text": [
      "\n",
      "♫♫♫ > \u001b[92mCONNECTED!\u001b[0m\n",
      "\n",
      "♫♫♫ > DUET LIVE STATUS  *  Objects: 17  Requests: 0   Messages: 496  Request Handlers: 1                                \r"
     ]
    }
   ],
   "source": [
    "duet = sy.launch_duet()"
   ]
  },
  {
   "cell_type": "code",
   "execution_count": 3,
   "id": "db7cf855",
   "metadata": {},
   "outputs": [],
   "source": [
    "PIL_to_Tensor = transforms.Compose([\n",
    "                transforms.Resize(size = (256,256)),\n",
    "                transforms.RandomVerticalFlip(0.1),\n",
    "                transforms.RandomHorizontalFlip(0.1),\n",
    "                transforms.RandomRotation(degrees = 10),\n",
    "                transforms.CenterCrop(size=224),\n",
    "                transforms.ToTensor(),\n",
    "                transforms.Normalize([0.485, 0.456, 0.406],[0.229, 0.224, 0.225])\n",
    "    ])"
   ]
  },
  {
   "cell_type": "code",
   "execution_count": 4,
   "id": "0d9446a1",
   "metadata": {},
   "outputs": [],
   "source": [
    "# Divide the data into 3 sets to represent the three hospitals.\n",
    "normal_train = datasets.ImageFolder('chest_xray/train/_normal', transform= PIL_to_Tensor)"
   ]
  },
  {
   "cell_type": "code",
   "execution_count": 5,
   "id": "a265602c",
   "metadata": {},
   "outputs": [
    {
     "data": {
      "text/plain": [
       "Dataset ImageFolder\n",
       "    Number of datapoints: 1341\n",
       "    Root location: chest_xray/train/_normal\n",
       "    StandardTransform\n",
       "Transform: Compose(\n",
       "               Resize(size=(256, 256), interpolation=bilinear)\n",
       "               RandomVerticalFlip(p=0.1)\n",
       "               RandomHorizontalFlip(p=0.1)\n",
       "               RandomRotation(degrees=[-10.0, 10.0], interpolation=nearest, expand=False, fill=0)\n",
       "               CenterCrop(size=(224, 224))\n",
       "               ToTensor()\n",
       "               Normalize(mean=[0.485, 0.456, 0.406], std=[0.229, 0.224, 0.225])\n",
       "           )"
      ]
     },
     "execution_count": 5,
     "metadata": {},
     "output_type": "execute_result"
    }
   ],
   "source": [
    "normal_train"
   ]
  },
  {
   "cell_type": "code",
   "execution_count": 6,
   "id": "6daf7c3f",
   "metadata": {},
   "outputs": [],
   "source": [
    "pneumonia_train = datasets.ImageFolder('chest_xray/train/_pneumonia', transform= PIL_to_Tensor)"
   ]
  },
  {
   "cell_type": "code",
   "execution_count": 7,
   "id": "7e40049f",
   "metadata": {},
   "outputs": [
    {
     "data": {
      "text/plain": [
       "Dataset ImageFolder\n",
       "    Number of datapoints: 3875\n",
       "    Root location: chest_xray/train/_pneumonia\n",
       "    StandardTransform\n",
       "Transform: Compose(\n",
       "               Resize(size=(256, 256), interpolation=bilinear)\n",
       "               RandomVerticalFlip(p=0.1)\n",
       "               RandomHorizontalFlip(p=0.1)\n",
       "               RandomRotation(degrees=[-10.0, 10.0], interpolation=nearest, expand=False, fill=0)\n",
       "               CenterCrop(size=(224, 224))\n",
       "               ToTensor()\n",
       "               Normalize(mean=[0.485, 0.456, 0.406], std=[0.229, 0.224, 0.225])\n",
       "           )"
      ]
     },
     "execution_count": 7,
     "metadata": {},
     "output_type": "execute_result"
    }
   ],
   "source": [
    "pneumonia_train"
   ]
  },
  {
   "cell_type": "code",
   "execution_count": 8,
   "id": "ba0702d8",
   "metadata": {},
   "outputs": [],
   "source": [
    "X = []\n",
    "Y = []"
   ]
  },
  {
   "cell_type": "code",
   "execution_count": 9,
   "id": "f833abe7",
   "metadata": {},
   "outputs": [],
   "source": [
    "for index in range(100, 200):\n",
    "    normal_image = normal_train[index][0].type(th.float32).numpy()\n",
    "    X.append(normal_image)\n",
    "    Y.append(0)"
   ]
  },
  {
   "cell_type": "code",
   "execution_count": 10,
   "id": "cc543a81",
   "metadata": {},
   "outputs": [],
   "source": [
    "for index in range(100, 200):\n",
    "    pneumonia_image = pneumonia_train[index][0].type(th.float32).numpy()\n",
    "    X.append(pneumonia_image)\n",
    "    Y.append(1)"
   ]
  },
  {
   "cell_type": "code",
   "execution_count": 11,
   "id": "44838807",
   "metadata": {},
   "outputs": [],
   "source": [
    "X = th.FloatTensor(X)\n",
    "Y = th.FloatTensor(Y)"
   ]
  },
  {
   "cell_type": "code",
   "execution_count": 12,
   "id": "c53f4678",
   "metadata": {},
   "outputs": [],
   "source": [
    "X = X.tag(\"#X\")\n",
    "Y = Y.tag(\"#Y\")"
   ]
  },
  {
   "cell_type": "code",
   "execution_count": 13,
   "id": "02f8c327",
   "metadata": {},
   "outputs": [],
   "source": [
    "X_ptr = X.send(duet, pointable=True)\n",
    "Y_ptr = Y.send(duet, pointable=True)"
   ]
  },
  {
   "cell_type": "code",
   "execution_count": 14,
   "id": "2a398db0",
   "metadata": {
    "scrolled": true
   },
   "outputs": [
    {
     "data": {
      "text/html": [
       "<div>\n",
       "<style scoped>\n",
       "    .dataframe tbody tr th:only-of-type {\n",
       "        vertical-align: middle;\n",
       "    }\n",
       "\n",
       "    .dataframe tbody tr th {\n",
       "        vertical-align: top;\n",
       "    }\n",
       "\n",
       "    .dataframe thead th {\n",
       "        text-align: right;\n",
       "    }\n",
       "</style>\n",
       "<table border=\"1\" class=\"dataframe\">\n",
       "  <thead>\n",
       "    <tr style=\"text-align: right;\">\n",
       "      <th></th>\n",
       "      <th>ID</th>\n",
       "      <th>Tags</th>\n",
       "      <th>Description</th>\n",
       "      <th>object_type</th>\n",
       "    </tr>\n",
       "  </thead>\n",
       "  <tbody>\n",
       "    <tr>\n",
       "      <th>0</th>\n",
       "      <td>&lt;UID: 02a1767a63e14262b633ea3511c54dbf&gt;</td>\n",
       "      <td>[#X]</td>\n",
       "      <td></td>\n",
       "      <td>&lt;class 'torch.Tensor'&gt;</td>\n",
       "    </tr>\n",
       "    <tr>\n",
       "      <th>1</th>\n",
       "      <td>&lt;UID: 94685c4050b140b194f9cf4da6f06559&gt;</td>\n",
       "      <td>[#Y]</td>\n",
       "      <td></td>\n",
       "      <td>&lt;class 'torch.Tensor'&gt;</td>\n",
       "    </tr>\n",
       "  </tbody>\n",
       "</table>\n",
       "</div>"
      ],
      "text/plain": [
       "                                        ID  Tags Description  \\\n",
       "0  <UID: 02a1767a63e14262b633ea3511c54dbf>  [#X]               \n",
       "1  <UID: 94685c4050b140b194f9cf4da6f06559>  [#Y]               \n",
       "\n",
       "              object_type  \n",
       "0  <class 'torch.Tensor'>  \n",
       "1  <class 'torch.Tensor'>  "
      ]
     },
     "execution_count": 14,
     "metadata": {},
     "output_type": "execute_result"
    }
   ],
   "source": [
    "duet.store.pandas"
   ]
  },
  {
   "cell_type": "code",
   "execution_count": 15,
   "id": "910965d4",
   "metadata": {},
   "outputs": [],
   "source": [
    "#duet.store[0].get()"
   ]
  },
  {
   "cell_type": "code",
   "execution_count": 16,
   "id": "cd680cbd",
   "metadata": {},
   "outputs": [
    {
     "data": {
      "text/plain": [
       "tensor([0., 0., 0., 0., 0., 0., 0., 0., 0., 0., 0., 0., 0., 0., 0., 0., 0., 0.,\n",
       "        0., 0., 0., 0., 0., 0., 0., 0., 0., 0., 0., 0., 0., 0., 0., 0., 0., 0.,\n",
       "        0., 0., 0., 0., 0., 0., 0., 0., 0., 0., 0., 0., 0., 0., 0., 0., 0., 0.,\n",
       "        0., 0., 0., 0., 0., 0., 0., 0., 0., 0., 0., 0., 0., 0., 0., 0., 0., 0.,\n",
       "        0., 0., 0., 0., 0., 0., 0., 0., 0., 0., 0., 0., 0., 0., 0., 0., 0., 0.,\n",
       "        0., 0., 0., 0., 0., 0., 0., 0., 0., 0., 1., 1., 1., 1., 1., 1., 1., 1.,\n",
       "        1., 1., 1., 1., 1., 1., 1., 1., 1., 1., 1., 1., 1., 1., 1., 1., 1., 1.,\n",
       "        1., 1., 1., 1., 1., 1., 1., 1., 1., 1., 1., 1., 1., 1., 1., 1., 1., 1.,\n",
       "        1., 1., 1., 1., 1., 1., 1., 1., 1., 1., 1., 1., 1., 1., 1., 1., 1., 1.,\n",
       "        1., 1., 1., 1., 1., 1., 1., 1., 1., 1., 1., 1., 1., 1., 1., 1., 1., 1.,\n",
       "        1., 1., 1., 1., 1., 1., 1., 1., 1., 1., 1., 1., 1., 1., 1., 1., 1., 1.,\n",
       "        1., 1.])"
      ]
     },
     "execution_count": 16,
     "metadata": {},
     "output_type": "execute_result"
    }
   ],
   "source": [
    "Y"
   ]
  },
  {
   "cell_type": "code",
   "execution_count": 20,
   "id": "7701c94d",
   "metadata": {},
   "outputs": [
    {
     "data": {
      "text/html": [
       "<div>\n",
       "<style scoped>\n",
       "    .dataframe tbody tr th:only-of-type {\n",
       "        vertical-align: middle;\n",
       "    }\n",
       "\n",
       "    .dataframe tbody tr th {\n",
       "        vertical-align: top;\n",
       "    }\n",
       "\n",
       "    .dataframe thead th {\n",
       "        text-align: right;\n",
       "    }\n",
       "</style>\n",
       "<table border=\"1\" class=\"dataframe\">\n",
       "  <thead>\n",
       "    <tr style=\"text-align: right;\">\n",
       "      <th></th>\n",
       "      <th>ID</th>\n",
       "      <th>Tags</th>\n",
       "      <th>Description</th>\n",
       "      <th>object_type</th>\n",
       "    </tr>\n",
       "  </thead>\n",
       "  <tbody>\n",
       "    <tr>\n",
       "      <th>0</th>\n",
       "      <td>&lt;UID: 02a1767a63e14262b633ea3511c54dbf&gt;</td>\n",
       "      <td>[#X]</td>\n",
       "      <td></td>\n",
       "      <td>&lt;class 'torch.Tensor'&gt;</td>\n",
       "    </tr>\n",
       "    <tr>\n",
       "      <th>1</th>\n",
       "      <td>&lt;UID: 94685c4050b140b194f9cf4da6f06559&gt;</td>\n",
       "      <td>[#Y]</td>\n",
       "      <td></td>\n",
       "      <td>&lt;class 'torch.Tensor'&gt;</td>\n",
       "    </tr>\n",
       "    <tr>\n",
       "      <th>2</th>\n",
       "      <td>&lt;UID: aa0c70c40f3249d3aa55187e54275329&gt;</td>\n",
       "      <td>[]</td>\n",
       "      <td></td>\n",
       "      <td>&lt;class 'torch.nn.modules.module.Module'&gt;</td>\n",
       "    </tr>\n",
       "    <tr>\n",
       "      <th>3</th>\n",
       "      <td>&lt;UID: 4433cede3ef34b6e98e9578198cbfa05&gt;</td>\n",
       "      <td>[]</td>\n",
       "      <td></td>\n",
       "      <td>&lt;class 'torch.nn.modules.conv.Conv2d'&gt;</td>\n",
       "    </tr>\n",
       "    <tr>\n",
       "      <th>4</th>\n",
       "      <td>&lt;UID: 3122d5476f714e438c84a71dfcd5d8e6&gt;</td>\n",
       "      <td>[]</td>\n",
       "      <td></td>\n",
       "      <td>&lt;class 'torch.nn.modules.batchnorm.BatchNorm2d'&gt;</td>\n",
       "    </tr>\n",
       "    <tr>\n",
       "      <th>5</th>\n",
       "      <td>&lt;UID: ca3ae839e07f4d66a4fd836e28b5c162&gt;</td>\n",
       "      <td>[]</td>\n",
       "      <td></td>\n",
       "      <td>&lt;class 'torch.nn.modules.activation.ReLU'&gt;</td>\n",
       "    </tr>\n",
       "    <tr>\n",
       "      <th>6</th>\n",
       "      <td>&lt;UID: bebff3ded4fd48c0aaa4183ed30cc0d7&gt;</td>\n",
       "      <td>[]</td>\n",
       "      <td></td>\n",
       "      <td>&lt;class 'torch.nn.modules.pooling.MaxPool2d'&gt;</td>\n",
       "    </tr>\n",
       "    <tr>\n",
       "      <th>7</th>\n",
       "      <td>&lt;UID: e843af2ea4cc4b879681f5547060db6f&gt;</td>\n",
       "      <td>[]</td>\n",
       "      <td></td>\n",
       "      <td>&lt;class 'torch.nn.modules.conv.Conv2d'&gt;</td>\n",
       "    </tr>\n",
       "    <tr>\n",
       "      <th>8</th>\n",
       "      <td>&lt;UID: a7ea7bc1998a4f43b42df182fd8e720a&gt;</td>\n",
       "      <td>[]</td>\n",
       "      <td></td>\n",
       "      <td>&lt;class 'torch.nn.modules.activation.ReLU'&gt;</td>\n",
       "    </tr>\n",
       "    <tr>\n",
       "      <th>9</th>\n",
       "      <td>&lt;UID: 6cc04b1ebb884f5eb6d8920afa71d150&gt;</td>\n",
       "      <td>[]</td>\n",
       "      <td></td>\n",
       "      <td>&lt;class 'torch.nn.modules.conv.Conv2d'&gt;</td>\n",
       "    </tr>\n",
       "    <tr>\n",
       "      <th>10</th>\n",
       "      <td>&lt;UID: cd4893496abc476796cee47732bb12c7&gt;</td>\n",
       "      <td>[]</td>\n",
       "      <td></td>\n",
       "      <td>&lt;class 'torch.nn.modules.batchnorm.BatchNorm2d'&gt;</td>\n",
       "    </tr>\n",
       "    <tr>\n",
       "      <th>11</th>\n",
       "      <td>&lt;UID: 832bde8fd9a54a37a4e1defa3f559784&gt;</td>\n",
       "      <td>[]</td>\n",
       "      <td></td>\n",
       "      <td>&lt;class 'torch.nn.modules.activation.ReLU'&gt;</td>\n",
       "    </tr>\n",
       "    <tr>\n",
       "      <th>12</th>\n",
       "      <td>&lt;UID: 96c6d64ab8e44207921563a3e74ba05d&gt;</td>\n",
       "      <td>[]</td>\n",
       "      <td></td>\n",
       "      <td>&lt;class 'torch.nn.modules.linear.Linear'&gt;</td>\n",
       "    </tr>\n",
       "    <tr>\n",
       "      <th>13</th>\n",
       "      <td>&lt;UID: a025c2e338ab4e408c96f289190d7071&gt;</td>\n",
       "      <td>[]</td>\n",
       "      <td></td>\n",
       "      <td>&lt;class 'syft.lib.python.list.List'&gt;</td>\n",
       "    </tr>\n",
       "    <tr>\n",
       "      <th>14</th>\n",
       "      <td>&lt;UID: ffefab6a15c44d0383e56798dcd118db&gt;</td>\n",
       "      <td>[]</td>\n",
       "      <td></td>\n",
       "      <td>&lt;class 'torch.optim.adam.Adam'&gt;</td>\n",
       "    </tr>\n",
       "    <tr>\n",
       "      <th>15</th>\n",
       "      <td>&lt;UID: 4f5e0b9e03d048be8a928cb9a2d3143d&gt;</td>\n",
       "      <td>[#X, __call__, __call__, __call__, __call__, _...</td>\n",
       "      <td></td>\n",
       "      <td>&lt;class 'torch.Tensor'&gt;</td>\n",
       "    </tr>\n",
       "    <tr>\n",
       "      <th>16</th>\n",
       "      <td>&lt;UID: 7cfc84049e8148e7be6b7bca12ce39e2&gt;</td>\n",
       "      <td>[#X, __call__, __call__, __call__, __call__, _...</td>\n",
       "      <td></td>\n",
       "      <td>&lt;class 'torch.Tensor'&gt;</td>\n",
       "    </tr>\n",
       "  </tbody>\n",
       "</table>\n",
       "</div>"
      ],
      "text/plain": [
       "                                         ID  \\\n",
       "0   <UID: 02a1767a63e14262b633ea3511c54dbf>   \n",
       "1   <UID: 94685c4050b140b194f9cf4da6f06559>   \n",
       "2   <UID: aa0c70c40f3249d3aa55187e54275329>   \n",
       "3   <UID: 4433cede3ef34b6e98e9578198cbfa05>   \n",
       "4   <UID: 3122d5476f714e438c84a71dfcd5d8e6>   \n",
       "5   <UID: ca3ae839e07f4d66a4fd836e28b5c162>   \n",
       "6   <UID: bebff3ded4fd48c0aaa4183ed30cc0d7>   \n",
       "7   <UID: e843af2ea4cc4b879681f5547060db6f>   \n",
       "8   <UID: a7ea7bc1998a4f43b42df182fd8e720a>   \n",
       "9   <UID: 6cc04b1ebb884f5eb6d8920afa71d150>   \n",
       "10  <UID: cd4893496abc476796cee47732bb12c7>   \n",
       "11  <UID: 832bde8fd9a54a37a4e1defa3f559784>   \n",
       "12  <UID: 96c6d64ab8e44207921563a3e74ba05d>   \n",
       "13  <UID: a025c2e338ab4e408c96f289190d7071>   \n",
       "14  <UID: ffefab6a15c44d0383e56798dcd118db>   \n",
       "15  <UID: 4f5e0b9e03d048be8a928cb9a2d3143d>   \n",
       "16  <UID: 7cfc84049e8148e7be6b7bca12ce39e2>   \n",
       "\n",
       "                                                 Tags Description  \\\n",
       "0                                                [#X]               \n",
       "1                                                [#Y]               \n",
       "2                                                  []               \n",
       "3                                                  []               \n",
       "4                                                  []               \n",
       "5                                                  []               \n",
       "6                                                  []               \n",
       "7                                                  []               \n",
       "8                                                  []               \n",
       "9                                                  []               \n",
       "10                                                 []               \n",
       "11                                                 []               \n",
       "12                                                 []               \n",
       "13                                                 []               \n",
       "14                                                 []               \n",
       "15  [#X, __call__, __call__, __call__, __call__, _...               \n",
       "16  [#X, __call__, __call__, __call__, __call__, _...               \n",
       "\n",
       "                                         object_type  \n",
       "0                             <class 'torch.Tensor'>  \n",
       "1                             <class 'torch.Tensor'>  \n",
       "2           <class 'torch.nn.modules.module.Module'>  \n",
       "3             <class 'torch.nn.modules.conv.Conv2d'>  \n",
       "4   <class 'torch.nn.modules.batchnorm.BatchNorm2d'>  \n",
       "5         <class 'torch.nn.modules.activation.ReLU'>  \n",
       "6       <class 'torch.nn.modules.pooling.MaxPool2d'>  \n",
       "7             <class 'torch.nn.modules.conv.Conv2d'>  \n",
       "8         <class 'torch.nn.modules.activation.ReLU'>  \n",
       "9             <class 'torch.nn.modules.conv.Conv2d'>  \n",
       "10  <class 'torch.nn.modules.batchnorm.BatchNorm2d'>  \n",
       "11        <class 'torch.nn.modules.activation.ReLU'>  \n",
       "12          <class 'torch.nn.modules.linear.Linear'>  \n",
       "13               <class 'syft.lib.python.list.List'>  \n",
       "14                   <class 'torch.optim.adam.Adam'>  \n",
       "15                            <class 'torch.Tensor'>  \n",
       "16                            <class 'torch.Tensor'>  "
      ]
     },
     "execution_count": 20,
     "metadata": {},
     "output_type": "execute_result"
    }
   ],
   "source": [
    "duet.store.pandas"
   ]
  },
  {
   "cell_type": "code",
   "execution_count": 18,
   "id": "3853f6de",
   "metadata": {},
   "outputs": [
    {
     "data": {
      "text/plain": [
       "[]"
      ]
     },
     "execution_count": 18,
     "metadata": {},
     "output_type": "execute_result"
    }
   ],
   "source": [
    "duet.requests"
   ]
  },
  {
   "cell_type": "code",
   "execution_count": 19,
   "id": "b4b205a5",
   "metadata": {},
   "outputs": [],
   "source": [
    "# Make it so we accept those request from the DS\n",
    "duet.requests.add_handler(action=\"accept\")"
   ]
  }
 ],
 "metadata": {
  "kernelspec": {
   "display_name": "Python 3 (ipykernel)",
   "language": "python",
   "name": "python3"
  },
  "language_info": {
   "codemirror_mode": {
    "name": "ipython",
    "version": 3
   },
   "file_extension": ".py",
   "mimetype": "text/x-python",
   "name": "python",
   "nbconvert_exporter": "python",
   "pygments_lexer": "ipython3",
   "version": "3.7.13"
  }
 },
 "nbformat": 4,
 "nbformat_minor": 5
}
